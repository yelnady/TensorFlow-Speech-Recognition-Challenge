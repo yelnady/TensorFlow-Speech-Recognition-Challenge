{
 "cells": [
  {
   "cell_type": "code",
   "execution_count": 1,
   "id": "11e6d6fb",
   "metadata": {
    "execution": {
     "iopub.execute_input": "2021-08-10T15:45:48.875552Z",
     "iopub.status.busy": "2021-08-10T15:45:48.865002Z",
     "iopub.status.idle": "2021-08-10T15:46:25.532513Z",
     "shell.execute_reply": "2021-08-10T15:46:25.533010Z",
     "shell.execute_reply.started": "2021-08-10T12:14:58.367868Z"
    },
    "papermill": {
     "duration": 36.719739,
     "end_time": "2021-08-10T15:46:25.533328",
     "exception": false,
     "start_time": "2021-08-10T15:45:48.813589",
     "status": "completed"
    },
    "tags": []
   },
   "outputs": [
    {
     "name": "stdout",
     "output_type": "stream",
     "text": [
      "Collecting pyunpack\r\n",
      "  Downloading pyunpack-0.2.2-py2.py3-none-any.whl (3.8 kB)\r\n",
      "Collecting entrypoint2\r\n",
      "  Downloading entrypoint2-0.2.4-py3-none-any.whl (6.2 kB)\r\n",
      "Collecting easyprocess\r\n",
      "  Downloading EasyProcess-0.3-py2.py3-none-any.whl (7.9 kB)\r\n",
      "Installing collected packages: entrypoint2, easyprocess, pyunpack\r\n",
      "Successfully installed easyprocess-0.3 entrypoint2-0.2.4 pyunpack-0.2.2\r\n",
      "\u001b[33mWARNING: Running pip as root will break packages and permissions. You should install packages reliably by using venv: https://pip.pypa.io/warnings/venv\u001b[0m\r\n",
      "Collecting patool\r\n",
      "  Downloading patool-1.12-py2.py3-none-any.whl (77 kB)\r\n",
      "\u001b[K     |████████████████████████████████| 77 kB 941 kB/s \r\n",
      "\u001b[?25hInstalling collected packages: patool\r\n",
      "Successfully installed patool-1.12\r\n",
      "\u001b[33mWARNING: Running pip as root will break packages and permissions. You should install packages reliably by using venv: https://pip.pypa.io/warnings/venv\u001b[0m\r\n",
      "Collecting py7zr\r\n",
      "  Downloading py7zr-0.16.1-py3-none-any.whl (65 kB)\r\n",
      "\u001b[K     |████████████████████████████████| 65 kB 780 kB/s \r\n",
      "\u001b[?25hCollecting pyzstd<0.15.0,>=0.14.4\r\n",
      "  Downloading pyzstd-0.14.4-cp37-cp37m-manylinux2014_x86_64.whl (2.2 MB)\r\n",
      "\u001b[K     |████████████████████████████████| 2.2 MB 1.7 MB/s \r\n",
      "\u001b[?25hRequirement already satisfied: texttable in /opt/conda/lib/python3.7/site-packages (from py7zr) (1.6.3)\r\n",
      "Collecting bcj-cffi<0.6.0,>=0.5.1\r\n",
      "  Downloading bcj_cffi-0.5.1-cp37-cp37m-manylinux2014_x86_64.whl (36 kB)\r\n",
      "Collecting brotli>=1.0.9\r\n",
      "  Downloading Brotli-1.0.9-cp37-cp37m-manylinux1_x86_64.whl (357 kB)\r\n",
      "\u001b[K     |████████████████████████████████| 357 kB 37.9 MB/s \r\n",
      "\u001b[?25hRequirement already satisfied: importlib-metadata in /opt/conda/lib/python3.7/site-packages (from py7zr) (3.4.0)\r\n",
      "Collecting pyppmd>=0.14.0\r\n",
      "  Downloading pyppmd-0.15.2-cp37-cp37m-manylinux_2_17_x86_64.manylinux2014_x86_64.whl (121 kB)\r\n",
      "\u001b[K     |████████████████████████████████| 121 kB 59.0 MB/s \r\n",
      "\u001b[?25hCollecting multivolumefile>=0.2.3\r\n",
      "  Downloading multivolumefile-0.2.3-py3-none-any.whl (17 kB)\r\n",
      "Collecting pycryptodomex>=3.6.6\r\n",
      "  Downloading pycryptodomex-3.10.1-cp35-abi3-manylinux2010_x86_64.whl (1.9 MB)\r\n",
      "\u001b[K     |████████████████████████████████| 1.9 MB 32.5 MB/s \r\n",
      "\u001b[?25hRequirement already satisfied: cffi>=1.14.0 in /opt/conda/lib/python3.7/site-packages (from bcj-cffi<0.6.0,>=0.5.1->py7zr) (1.14.5)\r\n",
      "Requirement already satisfied: pycparser in /opt/conda/lib/python3.7/site-packages (from cffi>=1.14.0->bcj-cffi<0.6.0,>=0.5.1->py7zr) (2.20)\r\n",
      "Requirement already satisfied: zipp>=0.5 in /opt/conda/lib/python3.7/site-packages (from importlib-metadata->py7zr) (3.4.1)\r\n",
      "Requirement already satisfied: typing-extensions>=3.6.4 in /opt/conda/lib/python3.7/site-packages (from importlib-metadata->py7zr) (3.7.4.3)\r\n",
      "Installing collected packages: pyzstd, pyppmd, pycryptodomex, multivolumefile, brotli, bcj-cffi, py7zr\r\n",
      "Successfully installed bcj-cffi-0.5.1 brotli-1.0.9 multivolumefile-0.2.3 py7zr-0.16.1 pycryptodomex-3.10.1 pyppmd-0.15.2 pyzstd-0.14.4\r\n",
      "\u001b[33mWARNING: Running pip as root will break packages and permissions. You should install packages reliably by using venv: https://pip.pypa.io/warnings/venv\u001b[0m\r\n",
      "Collecting pathlib\r\n",
      "  Downloading pathlib-1.0.1.tar.gz (49 kB)\r\n",
      "\u001b[K     |████████████████████████████████| 49 kB 683 kB/s \r\n",
      "\u001b[?25hBuilding wheels for collected packages: pathlib\r\n",
      "  Building wheel for pathlib (setup.py) ... \u001b[?25l-\b \b\\\b \bdone\r\n",
      "\u001b[?25h  Created wheel for pathlib: filename=pathlib-1.0.1-py3-none-any.whl size=14347 sha256=563f0f5e2dde98cefe034e68796bb0cb227679d64f9e7a1137992132c1347fad\r\n",
      "  Stored in directory: /root/.cache/pip/wheels/6e/96/b8/10037fe231e23970bac58361d7c93571ab983a7bbc55e68550\r\n",
      "Successfully built pathlib\r\n",
      "Installing collected packages: pathlib\r\n",
      "Successfully installed pathlib-1.0.1\r\n",
      "\u001b[33mWARNING: Running pip as root will break packages and permissions. You should install packages reliably by using venv: https://pip.pypa.io/warnings/venv\u001b[0m\r\n"
     ]
    }
   ],
   "source": [
    "!pip install pyunpack\n",
    "!pip install patool\n",
    "!pip install py7zr\n",
    "!pip install pathlib"
   ]
  },
  {
   "cell_type": "code",
   "execution_count": 2,
   "id": "ecefec99",
   "metadata": {
    "_cell_guid": "b1076dfc-b9ad-4769-8c92-a6c4dae69d19",
    "_uuid": "8f2839f25d086af736a60e9eeb907d3b93b6e0e5",
    "execution": {
     "iopub.execute_input": "2021-08-10T15:46:25.645786Z",
     "iopub.status.busy": "2021-08-10T15:46:25.645065Z",
     "iopub.status.idle": "2021-08-10T15:46:25.652327Z",
     "shell.execute_reply": "2021-08-10T15:46:25.652993Z",
     "shell.execute_reply.started": "2021-08-10T12:15:37.304085Z"
    },
    "papermill": {
     "duration": 0.06711,
     "end_time": "2021-08-10T15:46:25.653230",
     "exception": false,
     "start_time": "2021-08-10T15:46:25.586120",
     "status": "completed"
    },
    "tags": []
   },
   "outputs": [
    {
     "name": "stdout",
     "output_type": "stream",
     "text": [
      "/kaggle/input/tensorflow-speech-recognition-challenge/link_to_gcp_credits_form.txt\n",
      "/kaggle/input/tensorflow-speech-recognition-challenge/test.7z\n",
      "/kaggle/input/tensorflow-speech-recognition-challenge/sample_submission.7z\n",
      "/kaggle/input/tensorflow-speech-recognition-challenge/train.7z\n"
     ]
    }
   ],
   "source": [
    "# This Python 3 environment comes with many helpful analytics libraries installed\n",
    "# It is defined by the kaggle/python Docker image: https://github.com/kaggle/docker-python\n",
    "# For example, here's several helpful packages to load\n",
    "\n",
    "import numpy as np # linear algebra\n",
    "import pandas as pd # data processing, CSV file I/O (e.g. pd.read_csv)\n",
    "\n",
    "# Input data files are available in the read-only \"../input/\" directory\n",
    "# For example, running this (by clicking run or pressing Shift+Enter) will list all files under the input directory\n",
    "\n",
    "import os\n",
    "for dirname, _, filenames in os.walk('/kaggle/input'):\n",
    "    for filename in filenames:\n",
    "        print(os.path.join(dirname, filename))\n",
    "\n",
    "# You can write up to 20GB to the current directory (/kaggle/working/) that gets preserved as output when you create a version using \"Save & Run All\" \n",
    "# You can also write temporary files to /kaggle/temp/, but they won't be saved outside of the current session"
   ]
  },
  {
   "cell_type": "code",
   "execution_count": 3,
   "id": "2bb91135",
   "metadata": {
    "execution": {
     "iopub.execute_input": "2021-08-10T15:46:25.768548Z",
     "iopub.status.busy": "2021-08-10T15:46:25.764955Z",
     "iopub.status.idle": "2021-08-10T15:46:26.496267Z",
     "shell.execute_reply": "2021-08-10T15:46:26.495634Z",
     "shell.execute_reply.started": "2021-08-05T16:18:28.57108Z"
    },
    "papermill": {
     "duration": 0.789085,
     "end_time": "2021-08-10T15:46:26.496401",
     "exception": false,
     "start_time": "2021-08-10T15:46:25.707316",
     "status": "completed"
    },
    "tags": []
   },
   "outputs": [
    {
     "name": "stdout",
     "output_type": "stream",
     "text": [
      "/kaggle/working\r\n"
     ]
    },
    {
     "data": {
      "text/plain": [
       "'/kaggle/working'"
      ]
     },
     "execution_count": 3,
     "metadata": {},
     "output_type": "execute_result"
    }
   ],
   "source": [
    "!pwd\n",
    "os.getcwd()"
   ]
  },
  {
   "cell_type": "code",
   "execution_count": 4,
   "id": "d40d3f14",
   "metadata": {
    "execution": {
     "iopub.execute_input": "2021-08-10T15:46:26.610087Z",
     "iopub.status.busy": "2021-08-10T15:46:26.609371Z",
     "iopub.status.idle": "2021-08-10T15:46:29.224175Z",
     "shell.execute_reply": "2021-08-10T15:46:29.223637Z",
     "shell.execute_reply.started": "2021-08-10T12:15:37.317207Z"
    },
    "papermill": {
     "duration": 2.675066,
     "end_time": "2021-08-10T15:46:29.224343",
     "exception": false,
     "start_time": "2021-08-10T15:46:26.549277",
     "status": "completed"
    },
    "tags": []
   },
   "outputs": [],
   "source": [
    "from pathlib import Path\n",
    "import random\n",
    "from importlib import reload\n",
    "import warnings\n",
    "warnings.filterwarnings(\"ignore\")\n",
    "\n",
    "\n",
    "import IPython.display as ipd\n",
    "from ipywidgets import interact, interactive, fixed, interact_manual\n",
    "import ipywidgets as widgets\n",
    "import librosa, librosa.display\n",
    "import matplotlib.pyplot as plt\n",
    "import numpy as np\n",
    "from scipy.signal import butter, lfilter\n",
    "import seaborn as sns\n",
    "import soundfile as sf\n",
    "from tqdm import tqdm_notebook as tqdm\n",
    "\n",
    "import librosa\n",
    "from scipy.io import wavfile\n",
    "import numpy as np\n",
    "\n",
    "import glob"
   ]
  },
  {
   "cell_type": "code",
   "execution_count": 5,
   "id": "3ed51f8e",
   "metadata": {
    "execution": {
     "iopub.execute_input": "2021-08-10T15:46:29.336102Z",
     "iopub.status.busy": "2021-08-10T15:46:29.335088Z",
     "iopub.status.idle": "2021-08-10T15:49:22.216618Z",
     "shell.execute_reply": "2021-08-10T15:49:22.215797Z",
     "shell.execute_reply.started": "2021-08-10T12:15:39.956730Z"
    },
    "papermill": {
     "duration": 172.939525,
     "end_time": "2021-08-10T15:49:22.216784",
     "exception": false,
     "start_time": "2021-08-10T15:46:29.277259",
     "status": "completed"
    },
    "tags": []
   },
   "outputs": [],
   "source": [
    "from py7zr import unpack_7zarchive\n",
    "import shutil\n",
    "\n",
    "shutil.register_unpack_format('7zip', ['.7z'], unpack_7zarchive)\n",
    "shutil.unpack_archive('/kaggle/input/tensorflow-speech-recognition-challenge/train.7z', '/kaggle/working/tensorflow-speech-recognition-challenge/')"
   ]
  },
  {
   "cell_type": "code",
   "execution_count": 6,
   "id": "cd38ca9b",
   "metadata": {
    "execution": {
     "iopub.execute_input": "2021-08-10T15:49:34.010025Z",
     "iopub.status.busy": "2021-08-10T15:49:34.008951Z",
     "iopub.status.idle": "2021-08-10T15:49:34.128459Z",
     "shell.execute_reply": "2021-08-10T15:49:34.127813Z",
     "shell.execute_reply.started": "2021-08-10T12:18:46.924296Z"
    },
    "papermill": {
     "duration": 0.206701,
     "end_time": "2021-08-10T15:49:34.128713",
     "exception": false,
     "start_time": "2021-08-10T15:49:33.922012",
     "status": "completed"
    },
    "tags": []
   },
   "outputs": [
    {
     "data": {
      "text/plain": [
       "[PosixPath('/kaggle/working/tensorflow-speech-recognition-challenge/train'),\n",
       " PosixPath('/kaggle/working/tensorflow-speech-recognition-challenge/train/audio'),\n",
       " PosixPath('/kaggle/working/tensorflow-speech-recognition-challenge/train/audio/off'),\n",
       " PosixPath('/kaggle/working/tensorflow-speech-recognition-challenge/train/audio/six'),\n",
       " PosixPath('/kaggle/working/tensorflow-speech-recognition-challenge/train/audio/_background_noise_'),\n",
       " PosixPath('/kaggle/working/tensorflow-speech-recognition-challenge/train/audio/up'),\n",
       " PosixPath('/kaggle/working/tensorflow-speech-recognition-challenge/train/audio/dog'),\n",
       " PosixPath('/kaggle/working/tensorflow-speech-recognition-challenge/train/audio/bird'),\n",
       " PosixPath('/kaggle/working/tensorflow-speech-recognition-challenge/train/audio/bed'),\n",
       " PosixPath('/kaggle/working/tensorflow-speech-recognition-challenge/train/audio/right'),\n",
       " PosixPath('/kaggle/working/tensorflow-speech-recognition-challenge/train/audio/tree'),\n",
       " PosixPath('/kaggle/working/tensorflow-speech-recognition-challenge/train/audio/zero'),\n",
       " PosixPath('/kaggle/working/tensorflow-speech-recognition-challenge/train/audio/three'),\n",
       " PosixPath('/kaggle/working/tensorflow-speech-recognition-challenge/train/audio/nine'),\n",
       " PosixPath('/kaggle/working/tensorflow-speech-recognition-challenge/train/audio/five'),\n",
       " PosixPath('/kaggle/working/tensorflow-speech-recognition-challenge/train/audio/two'),\n",
       " PosixPath('/kaggle/working/tensorflow-speech-recognition-challenge/train/audio/happy'),\n",
       " PosixPath('/kaggle/working/tensorflow-speech-recognition-challenge/train/audio/stop'),\n",
       " PosixPath('/kaggle/working/tensorflow-speech-recognition-challenge/train/audio/no'),\n",
       " PosixPath('/kaggle/working/tensorflow-speech-recognition-challenge/train/audio/down'),\n",
       " PosixPath('/kaggle/working/tensorflow-speech-recognition-challenge/train/audio/go'),\n",
       " PosixPath('/kaggle/working/tensorflow-speech-recognition-challenge/train/audio/cat'),\n",
       " PosixPath('/kaggle/working/tensorflow-speech-recognition-challenge/train/audio/marvin'),\n",
       " PosixPath('/kaggle/working/tensorflow-speech-recognition-challenge/train/audio/seven'),\n",
       " PosixPath('/kaggle/working/tensorflow-speech-recognition-challenge/train/audio/four'),\n",
       " PosixPath('/kaggle/working/tensorflow-speech-recognition-challenge/train/audio/eight'),\n",
       " PosixPath('/kaggle/working/tensorflow-speech-recognition-challenge/train/audio/house'),\n",
       " PosixPath('/kaggle/working/tensorflow-speech-recognition-challenge/train/audio/one'),\n",
       " PosixPath('/kaggle/working/tensorflow-speech-recognition-challenge/train/audio/yes'),\n",
       " PosixPath('/kaggle/working/tensorflow-speech-recognition-challenge/train/audio/wow'),\n",
       " PosixPath('/kaggle/working/tensorflow-speech-recognition-challenge/train/audio/on'),\n",
       " PosixPath('/kaggle/working/tensorflow-speech-recognition-challenge/train/audio/left'),\n",
       " PosixPath('/kaggle/working/tensorflow-speech-recognition-challenge/train/audio/sheila')]"
      ]
     },
     "execution_count": 6,
     "metadata": {},
     "output_type": "execute_result"
    }
   ],
   "source": [
    "path_base = Path('/kaggle/working/tensorflow-speech-recognition-challenge/train')\n",
    "paths_train = list(path_base.glob('**'))\n",
    "paths_train"
   ]
  },
  {
   "cell_type": "code",
   "execution_count": 7,
   "id": "88a85056",
   "metadata": {
    "execution": {
     "iopub.execute_input": "2021-08-10T15:49:34.973991Z",
     "iopub.status.busy": "2021-08-10T15:49:34.973031Z",
     "iopub.status.idle": "2021-08-10T15:49:34.977094Z",
     "shell.execute_reply": "2021-08-10T15:49:34.977857Z",
     "shell.execute_reply.started": "2021-08-10T12:30:51.028328Z"
    },
    "papermill": {
     "duration": 0.077593,
     "end_time": "2021-08-10T15:49:34.978088",
     "exception": false,
     "start_time": "2021-08-10T15:49:34.900495",
     "status": "completed"
    },
    "tags": []
   },
   "outputs": [
    {
     "name": "stdout",
     "output_type": "stream",
     "text": [
      "['train', 'audio', 'off', 'six', '_background_noise_', 'up', 'dog', 'bird', 'bed', 'right', 'tree', 'zero', 'three', 'nine', 'five', 'two', 'happy', 'stop', 'no', 'down', 'go', 'cat', 'marvin', 'seven', 'four', 'eight', 'house', 'one', 'yes', 'wow', 'on', 'left', 'sheila']\n"
     ]
    }
   ],
   "source": [
    "print([str(path).split('/')[-1] for path in paths_train] )"
   ]
  },
  {
   "cell_type": "code",
   "execution_count": 8,
   "id": "5dabe8e7",
   "metadata": {
    "execution": {
     "iopub.execute_input": "2021-08-10T15:49:35.112128Z",
     "iopub.status.busy": "2021-08-10T15:49:35.111422Z",
     "iopub.status.idle": "2021-08-10T15:49:35.119404Z",
     "shell.execute_reply": "2021-08-10T15:49:35.120167Z",
     "shell.execute_reply.started": "2021-08-05T16:21:35.946318Z"
    },
    "papermill": {
     "duration": 0.078019,
     "end_time": "2021-08-10T15:49:35.120341",
     "exception": false,
     "start_time": "2021-08-10T15:49:35.042322",
     "status": "completed"
    },
    "tags": []
   },
   "outputs": [
    {
     "data": {
      "text/plain": [
       "['off',\n",
       " 'six',\n",
       " '_background_noise_',\n",
       " 'up',\n",
       " 'dog',\n",
       " 'bird',\n",
       " 'bed',\n",
       " 'right',\n",
       " 'tree',\n",
       " 'zero',\n",
       " 'three',\n",
       " 'nine',\n",
       " 'five',\n",
       " 'two',\n",
       " 'happy',\n",
       " 'stop',\n",
       " 'no',\n",
       " 'down',\n",
       " 'go',\n",
       " 'cat',\n",
       " 'marvin',\n",
       " 'seven',\n",
       " 'four',\n",
       " 'eight',\n",
       " 'house',\n",
       " 'one',\n",
       " 'yes',\n",
       " 'wow',\n",
       " 'on',\n",
       " 'left',\n",
       " 'sheila']"
      ]
     },
     "execution_count": 8,
     "metadata": {},
     "output_type": "execute_result"
    }
   ],
   "source": [
    "os.listdir('/kaggle/working/tensorflow-speech-recognition-challenge/train/audio')"
   ]
  },
  {
   "cell_type": "code",
   "execution_count": 9,
   "id": "5f44bfaa",
   "metadata": {
    "execution": {
     "iopub.execute_input": "2021-08-10T15:49:35.235963Z",
     "iopub.status.busy": "2021-08-10T15:49:35.235264Z",
     "iopub.status.idle": "2021-08-10T15:49:35.348250Z",
     "shell.execute_reply": "2021-08-10T15:49:35.347313Z",
     "shell.execute_reply.started": "2021-08-05T16:21:36.796031Z"
    },
    "papermill": {
     "duration": 0.172182,
     "end_time": "2021-08-10T15:49:35.348410",
     "exception": false,
     "start_time": "2021-08-10T15:49:35.176228",
     "status": "completed"
    },
    "tags": []
   },
   "outputs": [],
   "source": [
    "trial_path = '/kaggle/working/tensorflow-speech-recognition-challenge/train/audio'\n",
    "cnt = 0\n",
    "for dirnames, _, filenames in os.walk(trial_path):\n",
    "    cnt += len(filenames)"
   ]
  },
  {
   "cell_type": "code",
   "execution_count": 10,
   "id": "6a0f5495",
   "metadata": {
    "execution": {
     "iopub.execute_input": "2021-08-10T15:49:35.461689Z",
     "iopub.status.busy": "2021-08-10T15:49:35.460980Z",
     "iopub.status.idle": "2021-08-10T15:49:35.464021Z",
     "shell.execute_reply": "2021-08-10T15:49:35.464465Z",
     "shell.execute_reply.started": "2021-08-05T16:21:36.918534Z"
    },
    "papermill": {
     "duration": 0.062091,
     "end_time": "2021-08-10T15:49:35.464649",
     "exception": false,
     "start_time": "2021-08-10T15:49:35.402558",
     "status": "completed"
    },
    "tags": []
   },
   "outputs": [
    {
     "data": {
      "text/plain": [
       "64728"
      ]
     },
     "execution_count": 10,
     "metadata": {},
     "output_type": "execute_result"
    }
   ],
   "source": [
    "cnt"
   ]
  },
  {
   "cell_type": "code",
   "execution_count": 11,
   "id": "3aa30100",
   "metadata": {
    "collapsed": true,
    "execution": {
     "iopub.execute_input": "2021-08-10T15:49:35.576295Z",
     "iopub.status.busy": "2021-08-10T15:49:35.575656Z",
     "iopub.status.idle": "2021-08-10T15:49:35.595171Z",
     "shell.execute_reply": "2021-08-10T15:49:35.595654Z",
     "shell.execute_reply.started": "2021-08-10T12:18:39.046503Z"
    },
    "jupyter": {
     "outputs_hidden": true
    },
    "papermill": {
     "duration": 0.076823,
     "end_time": "2021-08-10T15:49:35.595825",
     "exception": false,
     "start_time": "2021-08-10T15:49:35.519002",
     "status": "completed"
    },
    "tags": []
   },
   "outputs": [
    {
     "name": "stdout",
     "output_type": "stream",
     "text": [
      "/kaggle/working/tensorflow-speech-recognition-challenge/train/audio/house/65ec06e5_nohash_0.wav\n",
      "/kaggle/working/tensorflow-speech-recognition-challenge/train/audio/house/7f17667c_nohash_1.wav\n",
      "/kaggle/working/tensorflow-speech-recognition-challenge/train/audio/house/620ff0fa_nohash_1.wav\n",
      "/kaggle/working/tensorflow-speech-recognition-challenge/train/audio/house/ec545975_nohash_0.wav\n",
      "/kaggle/working/tensorflow-speech-recognition-challenge/train/audio/house/f9af0887_nohash_0.wav\n",
      "/kaggle/working/tensorflow-speech-recognition-challenge/train/audio/house/1657c9fa_nohash_0.wav\n",
      "/kaggle/working/tensorflow-speech-recognition-challenge/train/audio/house/6dfff95a_nohash_1.wav\n",
      "/kaggle/working/tensorflow-speech-recognition-challenge/train/audio/house/6c0f6493_nohash_0.wav\n",
      "/kaggle/working/tensorflow-speech-recognition-challenge/train/audio/house/cc6bae0d_nohash_0.wav\n",
      "/kaggle/working/tensorflow-speech-recognition-challenge/train/audio/house/118261a9_nohash_0.wav\n",
      "/kaggle/working/tensorflow-speech-recognition-challenge/train/audio/house/da8fa823_nohash_1.wav\n",
      "/kaggle/working/tensorflow-speech-recognition-challenge/train/audio/house/7257420c_nohash_0.wav\n",
      "/kaggle/working/tensorflow-speech-recognition-challenge/train/audio/house/f34e6f44_nohash_0.wav\n",
      "/kaggle/working/tensorflow-speech-recognition-challenge/train/audio/house/dff327c5_nohash_1.wav\n",
      "/kaggle/working/tensorflow-speech-recognition-challenge/train/audio/house/2579e514_nohash_0.wav\n",
      "/kaggle/working/tensorflow-speech-recognition-challenge/train/audio/house/c205e625_nohash_0.wav\n",
      "/kaggle/working/tensorflow-speech-recognition-challenge/train/audio/house/aa109cfb_nohash_0.wav\n",
      "/kaggle/working/tensorflow-speech-recognition-challenge/train/audio/house/39543cfd_nohash_0.wav\n",
      "/kaggle/working/tensorflow-speech-recognition-challenge/train/audio/house/96d5276f_nohash_0.wav\n",
      "/kaggle/working/tensorflow-speech-recognition-challenge/train/audio/house/8a1c449e_nohash_1.wav\n",
      "/kaggle/working/tensorflow-speech-recognition-challenge/train/audio/house/c2aeb59d_nohash_0.wav\n",
      "/kaggle/working/tensorflow-speech-recognition-challenge/train/audio/house/8d4cdc60_nohash_1.wav\n",
      "/kaggle/working/tensorflow-speech-recognition-challenge/train/audio/house/92b0a735_nohash_0.wav\n",
      "/kaggle/working/tensorflow-speech-recognition-challenge/train/audio/house/eb3f7d82_nohash_0.wav\n",
      "/kaggle/working/tensorflow-speech-recognition-challenge/train/audio/house/274c008f_nohash_0.wav\n",
      "/kaggle/working/tensorflow-speech-recognition-challenge/train/audio/house/6f3458b3_nohash_1.wav\n",
      "/kaggle/working/tensorflow-speech-recognition-challenge/train/audio/house/b6091c84_nohash_0.wav\n",
      "/kaggle/working/tensorflow-speech-recognition-challenge/train/audio/house/bdee441c_nohash_0.wav\n",
      "/kaggle/working/tensorflow-speech-recognition-challenge/train/audio/house/659b7fae_nohash_0.wav\n",
      "/kaggle/working/tensorflow-speech-recognition-challenge/train/audio/house/9d8ac38b_nohash_0.wav\n",
      "/kaggle/working/tensorflow-speech-recognition-challenge/train/audio/house/43fc47a7_nohash_1.wav\n",
      "/kaggle/working/tensorflow-speech-recognition-challenge/train/audio/house/a527cb3c_nohash_0.wav\n",
      "/kaggle/working/tensorflow-speech-recognition-challenge/train/audio/house/17cc40ee_nohash_1.wav\n",
      "/kaggle/working/tensorflow-speech-recognition-challenge/train/audio/house/6a1908f8_nohash_2.wav\n",
      "/kaggle/working/tensorflow-speech-recognition-challenge/train/audio/house/33246bc2_nohash_1.wav\n",
      "/kaggle/working/tensorflow-speech-recognition-challenge/train/audio/house/e57abea3_nohash_0.wav\n",
      "/kaggle/working/tensorflow-speech-recognition-challenge/train/audio/house/ab81c9c8_nohash_0.wav\n",
      "/kaggle/working/tensorflow-speech-recognition-challenge/train/audio/house/41dce6f5_nohash_0.wav\n",
      "/kaggle/working/tensorflow-speech-recognition-challenge/train/audio/house/6cf5459b_nohash_0.wav\n",
      "/kaggle/working/tensorflow-speech-recognition-challenge/train/audio/house/1b835b87_nohash_1.wav\n",
      "/kaggle/working/tensorflow-speech-recognition-challenge/train/audio/house/65d14087_nohash_0.wav\n",
      "/kaggle/working/tensorflow-speech-recognition-challenge/train/audio/house/f4386675_nohash_0.wav\n",
      "/kaggle/working/tensorflow-speech-recognition-challenge/train/audio/house/7ca023e2_nohash_0.wav\n",
      "/kaggle/working/tensorflow-speech-recognition-challenge/train/audio/house/c8771f88_nohash_0.wav\n",
      "/kaggle/working/tensorflow-speech-recognition-challenge/train/audio/house/745a8e32_nohash_1.wav\n",
      "/kaggle/working/tensorflow-speech-recognition-challenge/train/audio/house/ab5b211a_nohash_2.wav\n",
      "/kaggle/working/tensorflow-speech-recognition-challenge/train/audio/house/db72a474_nohash_1.wav\n",
      "/kaggle/working/tensorflow-speech-recognition-challenge/train/audio/house/8eb4a1bf_nohash_0.wav\n",
      "/kaggle/working/tensorflow-speech-recognition-challenge/train/audio/house/264f471d_nohash_0.wav\n",
      "/kaggle/working/tensorflow-speech-recognition-challenge/train/audio/house/951cac20_nohash_1.wav\n",
      "/kaggle/working/tensorflow-speech-recognition-challenge/train/audio/house/857366dd_nohash_0.wav\n",
      "/kaggle/working/tensorflow-speech-recognition-challenge/train/audio/house/c2bc4489_nohash_0.wav\n",
      "/kaggle/working/tensorflow-speech-recognition-challenge/train/audio/house/462e1919_nohash_0.wav\n",
      "/kaggle/working/tensorflow-speech-recognition-challenge/train/audio/house/c84f9b5c_nohash_0.wav\n",
      "/kaggle/working/tensorflow-speech-recognition-challenge/train/audio/house/62ef962d_nohash_0.wav\n",
      "/kaggle/working/tensorflow-speech-recognition-challenge/train/audio/house/8f0d3c27_nohash_0.wav\n",
      "/kaggle/working/tensorflow-speech-recognition-challenge/train/audio/house/977a3be4_nohash_1.wav\n",
      "/kaggle/working/tensorflow-speech-recognition-challenge/train/audio/house/39c13eed_nohash_1.wav\n",
      "/kaggle/working/tensorflow-speech-recognition-challenge/train/audio/house/4f5c0b28_nohash_0.wav\n",
      "/kaggle/working/tensorflow-speech-recognition-challenge/train/audio/house/f7879738_nohash_0.wav\n",
      "/kaggle/working/tensorflow-speech-recognition-challenge/train/audio/house/0447d7c1_nohash_0.wav\n",
      "/kaggle/working/tensorflow-speech-recognition-challenge/train/audio/house/27b03931_nohash_0.wav\n",
      "/kaggle/working/tensorflow-speech-recognition-challenge/train/audio/house/fe1916ba_nohash_2.wav\n",
      "/kaggle/working/tensorflow-speech-recognition-challenge/train/audio/house/e7ea8b76_nohash_0.wav\n",
      "/kaggle/working/tensorflow-speech-recognition-challenge/train/audio/house/28612180_nohash_0.wav\n",
      "/kaggle/working/tensorflow-speech-recognition-challenge/train/audio/house/c44d2a58_nohash_0.wav\n",
      "/kaggle/working/tensorflow-speech-recognition-challenge/train/audio/house/439c84f4_nohash_0.wav\n",
      "/kaggle/working/tensorflow-speech-recognition-challenge/train/audio/house/742d6431_nohash_0.wav\n",
      "/kaggle/working/tensorflow-speech-recognition-challenge/train/audio/house/7e556a2c_nohash_0.wav\n",
      "/kaggle/working/tensorflow-speech-recognition-challenge/train/audio/house/31d68957_nohash_0.wav\n",
      "/kaggle/working/tensorflow-speech-recognition-challenge/train/audio/house/8a744054_nohash_0.wav\n",
      "/kaggle/working/tensorflow-speech-recognition-challenge/train/audio/house/7081436f_nohash_0.wav\n",
      "/kaggle/working/tensorflow-speech-recognition-challenge/train/audio/house/56cd307a_nohash_0.wav\n",
      "/kaggle/working/tensorflow-speech-recognition-challenge/train/audio/house/a879a2c3_nohash_0.wav\n",
      "/kaggle/working/tensorflow-speech-recognition-challenge/train/audio/house/dbb7723a_nohash_0.wav\n",
      "/kaggle/working/tensorflow-speech-recognition-challenge/train/audio/house/1c3f50ad_nohash_1.wav\n",
      "/kaggle/working/tensorflow-speech-recognition-challenge/train/audio/house/d874a786_nohash_0.wav\n",
      "/kaggle/working/tensorflow-speech-recognition-challenge/train/audio/house/3c8836dc_nohash_0.wav\n",
      "/kaggle/working/tensorflow-speech-recognition-challenge/train/audio/house/3d9200b9_nohash_0.wav\n",
      "/kaggle/working/tensorflow-speech-recognition-challenge/train/audio/house/7ff085e1_nohash_1.wav\n",
      "/kaggle/working/tensorflow-speech-recognition-challenge/train/audio/house/b0bad4a9_nohash_3.wav\n",
      "/kaggle/working/tensorflow-speech-recognition-challenge/train/audio/house/c1d39ce8_nohash_0.wav\n",
      "/kaggle/working/tensorflow-speech-recognition-challenge/train/audio/house/8f3f252c_nohash_3.wav\n",
      "/kaggle/working/tensorflow-speech-recognition-challenge/train/audio/house/e57abea3_nohash_1.wav\n",
      "/kaggle/working/tensorflow-speech-recognition-challenge/train/audio/house/8f3f252c_nohash_0.wav\n",
      "/kaggle/working/tensorflow-speech-recognition-challenge/train/audio/house/0685264e_nohash_0.wav\n",
      "/kaggle/working/tensorflow-speech-recognition-challenge/train/audio/house/b25b6065_nohash_3.wav\n",
      "/kaggle/working/tensorflow-speech-recognition-challenge/train/audio/house/e63b69c5_nohash_0.wav\n",
      "/kaggle/working/tensorflow-speech-recognition-challenge/train/audio/house/c0445658_nohash_0.wav\n",
      "/kaggle/working/tensorflow-speech-recognition-challenge/train/audio/house/38c388bc_nohash_0.wav\n",
      "/kaggle/working/tensorflow-speech-recognition-challenge/train/audio/house/2be08ce4_nohash_0.wav\n",
      "/kaggle/working/tensorflow-speech-recognition-challenge/train/audio/house/db4cf12f_nohash_0.wav\n",
      "/kaggle/working/tensorflow-speech-recognition-challenge/train/audio/house/afb9e62e_nohash_1.wav\n",
      "/kaggle/working/tensorflow-speech-recognition-challenge/train/audio/house/7c75a504_nohash_0.wav\n",
      "/kaggle/working/tensorflow-speech-recognition-challenge/train/audio/house/db79a764_nohash_0.wav\n",
      "/kaggle/working/tensorflow-speech-recognition-challenge/train/audio/house/5b09db89_nohash_0.wav\n",
      "/kaggle/working/tensorflow-speech-recognition-challenge/train/audio/house/2579e514_nohash_1.wav\n",
      "/kaggle/working/tensorflow-speech-recognition-challenge/train/audio/house/3eb8764c_nohash_0.wav\n",
      "/kaggle/working/tensorflow-speech-recognition-challenge/train/audio/house/b0c0197e_nohash_1.wav\n",
      "/kaggle/working/tensorflow-speech-recognition-challenge/train/audio/house/408de0a4_nohash_1.wav\n"
     ]
    }
   ],
   "source": [
    "path_of_audios = '/kaggle/working/tensorflow-speech-recognition-challenge/train/audio/house'\n",
    "house_audio = os.listdir(path_of_audios) #List of all file names inside house folder\n",
    "\n",
    "\n",
    "for i in range(300,400):\n",
    "    print(path_of_audios+'/'+house_audio[i])\n",
    "    \n",
    "sr = 16000 #hz (sample rate)"
   ]
  },
  {
   "cell_type": "code",
   "execution_count": 12,
   "id": "225d9661",
   "metadata": {
    "execution": {
     "iopub.execute_input": "2021-08-10T15:49:35.711648Z",
     "iopub.status.busy": "2021-08-10T15:49:35.711006Z",
     "iopub.status.idle": "2021-08-10T15:49:35.723557Z",
     "shell.execute_reply": "2021-08-10T15:49:35.722927Z",
     "shell.execute_reply.started": "2021-08-10T12:18:39.071140Z"
    },
    "papermill": {
     "duration": 0.072932,
     "end_time": "2021-08-10T15:49:35.723718",
     "exception": false,
     "start_time": "2021-08-10T15:49:35.650786",
     "status": "completed"
    },
    "tags": []
   },
   "outputs": [
    {
     "data": {
      "text/plain": [
       "(13995,)"
      ]
     },
     "execution_count": 12,
     "metadata": {},
     "output_type": "execute_result"
    }
   ],
   "source": [
    "idx = 7\n",
    "samples, sample_rate = librosa.load(path_of_audios+'/'+house_audio[idx], sr = sr)\n",
    "samples.shape"
   ]
  },
  {
   "cell_type": "code",
   "execution_count": 13,
   "id": "28d452af",
   "metadata": {
    "execution": {
     "iopub.execute_input": "2021-08-10T15:49:35.841715Z",
     "iopub.status.busy": "2021-08-10T15:49:35.841079Z",
     "iopub.status.idle": "2021-08-10T15:49:35.862458Z",
     "shell.execute_reply": "2021-08-10T15:49:35.861819Z",
     "shell.execute_reply.started": "2021-08-10T12:18:40.259303Z"
    },
    "papermill": {
     "duration": 0.082655,
     "end_time": "2021-08-10T15:49:35.862645",
     "exception": false,
     "start_time": "2021-08-10T15:49:35.779990",
     "status": "completed"
    },
    "tags": []
   },
   "outputs": [
    {
     "data": {
      "text/html": [
       "\n",
       "                <audio  controls=\"controls\" >\n",
       "                    <source src=\"data:audio/wav;base64,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\" type=\"audio/wav\" />\n",
       "                    Your browser does not support the audio element.\n",
       "                </audio>\n",
       "              "
      ],
      "text/plain": [
       "<IPython.lib.display.Audio object>"
      ]
     },
     "execution_count": 13,
     "metadata": {},
     "output_type": "execute_result"
    }
   ],
   "source": [
    "ipd.Audio(samples, rate = sr)"
   ]
  },
  {
   "cell_type": "code",
   "execution_count": 14,
   "id": "8b09ccf2",
   "metadata": {
    "execution": {
     "iopub.execute_input": "2021-08-10T15:49:35.983239Z",
     "iopub.status.busy": "2021-08-10T15:49:35.981533Z",
     "iopub.status.idle": "2021-08-10T15:49:35.987059Z",
     "shell.execute_reply": "2021-08-10T15:49:35.987550Z",
     "shell.execute_reply.started": "2021-08-10T12:18:46.913142Z"
    },
    "papermill": {
     "duration": 0.068635,
     "end_time": "2021-08-10T15:49:35.987716",
     "exception": false,
     "start_time": "2021-08-10T15:49:35.919081",
     "status": "completed"
    },
    "tags": []
   },
   "outputs": [
    {
     "data": {
      "text/html": [
       "\n",
       "                <audio  controls=\"controls\" >\n",
       "                    <source src=\"data:audio/x-wav;base64,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\" type=\"audio/x-wav\" />\n",
       "                    Your browser does not support the audio element.\n",
       "                </audio>\n",
       "              "
      ],
      "text/plain": [
       "<IPython.lib.display.Audio object>"
      ]
     },
     "execution_count": 14,
     "metadata": {},
     "output_type": "execute_result"
    }
   ],
   "source": [
    "ipd.Audio(path_of_audios+'/'+house_audio[idx])"
   ]
  },
  {
   "cell_type": "markdown",
   "id": "9a22e0cd",
   "metadata": {
    "papermill": {
     "duration": 0.056987,
     "end_time": "2021-08-10T15:49:36.102428",
     "exception": false,
     "start_time": "2021-08-10T15:49:36.045441",
     "status": "completed"
    },
    "tags": []
   },
   "source": [
    "samples"
   ]
  },
  {
   "cell_type": "code",
   "execution_count": 15,
   "id": "77d41a3e",
   "metadata": {
    "execution": {
     "iopub.execute_input": "2021-08-10T15:49:36.220736Z",
     "iopub.status.busy": "2021-08-10T15:49:36.219771Z",
     "iopub.status.idle": "2021-08-10T15:49:36.675559Z",
     "shell.execute_reply": "2021-08-10T15:49:36.674584Z",
     "shell.execute_reply.started": "2021-08-05T16:21:36.99571Z"
    },
    "papermill": {
     "duration": 0.516573,
     "end_time": "2021-08-10T15:49:36.676075",
     "exception": true,
     "start_time": "2021-08-10T15:49:36.159502",
     "status": "failed"
    },
    "tags": []
   },
   "outputs": [
    {
     "ename": "ValueError",
     "evalue": "x and y must have same first dimension, but have shapes (16000,) and (13995,)",
     "output_type": "error",
     "traceback": [
      "\u001b[0;31m---------------------------------------------------------------------------\u001b[0m",
      "\u001b[0;31mValueError\u001b[0m                                Traceback (most recent call last)",
      "\u001b[0;32m<ipython-input-15-65b697484677>\u001b[0m in \u001b[0;36m<module>\u001b[0;34m\u001b[0m\n\u001b[1;32m      6\u001b[0m \u001b[0max\u001b[0m\u001b[0;34m.\u001b[0m\u001b[0mset_xlabel\u001b[0m\u001b[0;34m(\u001b[0m\u001b[0;34m'Time'\u001b[0m\u001b[0;34m)\u001b[0m\u001b[0;34m\u001b[0m\u001b[0;34m\u001b[0m\u001b[0m\n\u001b[1;32m      7\u001b[0m \u001b[0max\u001b[0m\u001b[0;34m.\u001b[0m\u001b[0mset_ylabel\u001b[0m\u001b[0;34m(\u001b[0m\u001b[0;34m'Amplitude'\u001b[0m\u001b[0;34m)\u001b[0m\u001b[0;34m\u001b[0m\u001b[0;34m\u001b[0m\u001b[0m\n\u001b[0;32m----> 8\u001b[0;31m \u001b[0mplt\u001b[0m\u001b[0;34m.\u001b[0m\u001b[0mplot\u001b[0m\u001b[0;34m(\u001b[0m\u001b[0mx_values\u001b[0m\u001b[0;34m,\u001b[0m \u001b[0my_values\u001b[0m\u001b[0;34m)\u001b[0m\u001b[0;34m\u001b[0m\u001b[0;34m\u001b[0m\u001b[0m\n\u001b[0m",
      "\u001b[0;32m/opt/conda/lib/python3.7/site-packages/matplotlib/pyplot.py\u001b[0m in \u001b[0;36mplot\u001b[0;34m(scalex, scaley, data, *args, **kwargs)\u001b[0m\n\u001b[1;32m   3019\u001b[0m     return gca().plot(\n\u001b[1;32m   3020\u001b[0m         \u001b[0;34m*\u001b[0m\u001b[0margs\u001b[0m\u001b[0;34m,\u001b[0m \u001b[0mscalex\u001b[0m\u001b[0;34m=\u001b[0m\u001b[0mscalex\u001b[0m\u001b[0;34m,\u001b[0m \u001b[0mscaley\u001b[0m\u001b[0;34m=\u001b[0m\u001b[0mscaley\u001b[0m\u001b[0;34m,\u001b[0m\u001b[0;34m\u001b[0m\u001b[0;34m\u001b[0m\u001b[0m\n\u001b[0;32m-> 3021\u001b[0;31m         **({\"data\": data} if data is not None else {}), **kwargs)\n\u001b[0m\u001b[1;32m   3022\u001b[0m \u001b[0;34m\u001b[0m\u001b[0m\n\u001b[1;32m   3023\u001b[0m \u001b[0;34m\u001b[0m\u001b[0m\n",
      "\u001b[0;32m/opt/conda/lib/python3.7/site-packages/matplotlib/axes/_axes.py\u001b[0m in \u001b[0;36mplot\u001b[0;34m(self, scalex, scaley, data, *args, **kwargs)\u001b[0m\n\u001b[1;32m   1603\u001b[0m         \"\"\"\n\u001b[1;32m   1604\u001b[0m         \u001b[0mkwargs\u001b[0m \u001b[0;34m=\u001b[0m \u001b[0mcbook\u001b[0m\u001b[0;34m.\u001b[0m\u001b[0mnormalize_kwargs\u001b[0m\u001b[0;34m(\u001b[0m\u001b[0mkwargs\u001b[0m\u001b[0;34m,\u001b[0m \u001b[0mmlines\u001b[0m\u001b[0;34m.\u001b[0m\u001b[0mLine2D\u001b[0m\u001b[0;34m)\u001b[0m\u001b[0;34m\u001b[0m\u001b[0;34m\u001b[0m\u001b[0m\n\u001b[0;32m-> 1605\u001b[0;31m         \u001b[0mlines\u001b[0m \u001b[0;34m=\u001b[0m \u001b[0;34m[\u001b[0m\u001b[0;34m*\u001b[0m\u001b[0mself\u001b[0m\u001b[0;34m.\u001b[0m\u001b[0m_get_lines\u001b[0m\u001b[0;34m(\u001b[0m\u001b[0;34m*\u001b[0m\u001b[0margs\u001b[0m\u001b[0;34m,\u001b[0m \u001b[0mdata\u001b[0m\u001b[0;34m=\u001b[0m\u001b[0mdata\u001b[0m\u001b[0;34m,\u001b[0m \u001b[0;34m**\u001b[0m\u001b[0mkwargs\u001b[0m\u001b[0;34m)\u001b[0m\u001b[0;34m]\u001b[0m\u001b[0;34m\u001b[0m\u001b[0;34m\u001b[0m\u001b[0m\n\u001b[0m\u001b[1;32m   1606\u001b[0m         \u001b[0;32mfor\u001b[0m \u001b[0mline\u001b[0m \u001b[0;32min\u001b[0m \u001b[0mlines\u001b[0m\u001b[0;34m:\u001b[0m\u001b[0;34m\u001b[0m\u001b[0;34m\u001b[0m\u001b[0m\n\u001b[1;32m   1607\u001b[0m             \u001b[0mself\u001b[0m\u001b[0;34m.\u001b[0m\u001b[0madd_line\u001b[0m\u001b[0;34m(\u001b[0m\u001b[0mline\u001b[0m\u001b[0;34m)\u001b[0m\u001b[0;34m\u001b[0m\u001b[0;34m\u001b[0m\u001b[0m\n",
      "\u001b[0;32m/opt/conda/lib/python3.7/site-packages/matplotlib/axes/_base.py\u001b[0m in \u001b[0;36m__call__\u001b[0;34m(self, data, *args, **kwargs)\u001b[0m\n\u001b[1;32m    313\u001b[0m                 \u001b[0mthis\u001b[0m \u001b[0;34m+=\u001b[0m \u001b[0margs\u001b[0m\u001b[0;34m[\u001b[0m\u001b[0;36m0\u001b[0m\u001b[0;34m]\u001b[0m\u001b[0;34m,\u001b[0m\u001b[0;34m\u001b[0m\u001b[0;34m\u001b[0m\u001b[0m\n\u001b[1;32m    314\u001b[0m                 \u001b[0margs\u001b[0m \u001b[0;34m=\u001b[0m \u001b[0margs\u001b[0m\u001b[0;34m[\u001b[0m\u001b[0;36m1\u001b[0m\u001b[0;34m:\u001b[0m\u001b[0;34m]\u001b[0m\u001b[0;34m\u001b[0m\u001b[0;34m\u001b[0m\u001b[0m\n\u001b[0;32m--> 315\u001b[0;31m             \u001b[0;32myield\u001b[0m \u001b[0;32mfrom\u001b[0m \u001b[0mself\u001b[0m\u001b[0;34m.\u001b[0m\u001b[0m_plot_args\u001b[0m\u001b[0;34m(\u001b[0m\u001b[0mthis\u001b[0m\u001b[0;34m,\u001b[0m \u001b[0mkwargs\u001b[0m\u001b[0;34m)\u001b[0m\u001b[0;34m\u001b[0m\u001b[0;34m\u001b[0m\u001b[0m\n\u001b[0m\u001b[1;32m    316\u001b[0m \u001b[0;34m\u001b[0m\u001b[0m\n\u001b[1;32m    317\u001b[0m     \u001b[0;32mdef\u001b[0m \u001b[0mget_next_color\u001b[0m\u001b[0;34m(\u001b[0m\u001b[0mself\u001b[0m\u001b[0;34m)\u001b[0m\u001b[0;34m:\u001b[0m\u001b[0;34m\u001b[0m\u001b[0;34m\u001b[0m\u001b[0m\n",
      "\u001b[0;32m/opt/conda/lib/python3.7/site-packages/matplotlib/axes/_base.py\u001b[0m in \u001b[0;36m_plot_args\u001b[0;34m(self, tup, kwargs, return_kwargs)\u001b[0m\n\u001b[1;32m    499\u001b[0m \u001b[0;34m\u001b[0m\u001b[0m\n\u001b[1;32m    500\u001b[0m         \u001b[0;32mif\u001b[0m \u001b[0mx\u001b[0m\u001b[0;34m.\u001b[0m\u001b[0mshape\u001b[0m\u001b[0;34m[\u001b[0m\u001b[0;36m0\u001b[0m\u001b[0;34m]\u001b[0m \u001b[0;34m!=\u001b[0m \u001b[0my\u001b[0m\u001b[0;34m.\u001b[0m\u001b[0mshape\u001b[0m\u001b[0;34m[\u001b[0m\u001b[0;36m0\u001b[0m\u001b[0;34m]\u001b[0m\u001b[0;34m:\u001b[0m\u001b[0;34m\u001b[0m\u001b[0;34m\u001b[0m\u001b[0m\n\u001b[0;32m--> 501\u001b[0;31m             raise ValueError(f\"x and y must have same first dimension, but \"\n\u001b[0m\u001b[1;32m    502\u001b[0m                              f\"have shapes {x.shape} and {y.shape}\")\n\u001b[1;32m    503\u001b[0m         \u001b[0;32mif\u001b[0m \u001b[0mx\u001b[0m\u001b[0;34m.\u001b[0m\u001b[0mndim\u001b[0m \u001b[0;34m>\u001b[0m \u001b[0;36m2\u001b[0m \u001b[0;32mor\u001b[0m \u001b[0my\u001b[0m\u001b[0;34m.\u001b[0m\u001b[0mndim\u001b[0m \u001b[0;34m>\u001b[0m \u001b[0;36m2\u001b[0m\u001b[0;34m:\u001b[0m\u001b[0;34m\u001b[0m\u001b[0;34m\u001b[0m\u001b[0m\n",
      "\u001b[0;31mValueError\u001b[0m: x and y must have same first dimension, but have shapes (16000,) and (13995,)"
     ]
    },
    {
     "data": {
      "image/png": "[encoded data removed]",
      "text/plain": [
       "<Figure size 1440x936 with 1 Axes>"
      ]
     },
     "metadata": {
      "needs_background": "light"
     },
     "output_type": "display_data"
    }
   ],
   "source": [
    "fig = plt.figure(figsize=(20,13))\n",
    "x_values = np.linspace(0,sr/len(samples),sr)\n",
    "y_values = samples\n",
    "ax = plt.gca()\n",
    "ax.set_title('Raw wave of '+path_of_audios+'/'+house_audio[idx])\n",
    "ax.set_xlabel('Time')\n",
    "ax.set_ylabel('Amplitude')\n",
    "plt.plot(x_values, y_values)"
   ]
  },
  {
   "cell_type": "code",
   "execution_count": null,
   "id": "df7cb399",
   "metadata": {
    "execution": {
     "iopub.status.busy": "2021-08-05T16:21:37.451574Z",
     "iopub.status.idle": "2021-08-05T16:21:37.452032Z"
    },
    "papermill": {
     "duration": null,
     "end_time": null,
     "exception": null,
     "start_time": null,
     "status": "pending"
    },
    "tags": []
   },
   "outputs": [],
   "source": [
    "16*3"
   ]
  },
  {
   "cell_type": "code",
   "execution_count": null,
   "id": "d460dbbd",
   "metadata": {
    "execution": {
     "iopub.status.busy": "2021-08-05T16:21:37.45317Z",
     "iopub.status.idle": "2021-08-05T16:21:37.453601Z"
    },
    "papermill": {
     "duration": null,
     "end_time": null,
     "exception": null,
     "start_time": null,
     "status": "pending"
    },
    "tags": []
   },
   "outputs": [],
   "source": [
    "resamples = librosa.resample(samples, sr, 8000)\n",
    "ipd.Audio(resamples, rate=8000)"
   ]
  },
  {
   "cell_type": "code",
   "execution_count": null,
   "id": "1cae0d67",
   "metadata": {
    "execution": {
     "iopub.status.busy": "2021-08-05T16:21:37.45478Z",
     "iopub.status.idle": "2021-08-05T16:21:37.455182Z"
    },
    "papermill": {
     "duration": null,
     "end_time": null,
     "exception": null,
     "start_time": null,
     "status": "pending"
    },
    "tags": []
   },
   "outputs": [],
   "source": [
    "# sample rate is how many complete cycles we have in one second"
   ]
  },
  {
   "cell_type": "code",
   "execution_count": null,
   "id": "8b62ba91",
   "metadata": {
    "execution": {
     "iopub.execute_input": "2021-08-10T12:31:30.349446Z",
     "iopub.status.busy": "2021-08-10T12:31:30.349045Z",
     "iopub.status.idle": "2021-08-10T12:31:30.355399Z",
     "shell.execute_reply": "2021-08-10T12:31:30.354194Z",
     "shell.execute_reply.started": "2021-08-10T12:31:30.349412Z"
    },
    "papermill": {
     "duration": null,
     "end_time": null,
     "exception": null,
     "start_time": null,
     "status": "pending"
    },
    "tags": []
   },
   "outputs": [],
   "source": [
    "labels=[ 'dog', 'one', 'down', 'right', 'cat', 'bed', 'up', 'eight', 'marvin', 'six', 'nine', 'four',\n",
    "        'five', 'yes', 'three', 'wow', 'sheila', 'zero', 'seven', 'happy', 'go', 'bird', 'two', 'stop', 'off', 'tree',  'house', 'on', 'left', 'no']"
   ]
  },
  {
   "cell_type": "code",
   "execution_count": null,
   "id": "80c048c0",
   "metadata": {
    "execution": {
     "iopub.execute_input": "2021-08-10T12:31:32.471396Z",
     "iopub.status.busy": "2021-08-10T12:31:32.470808Z",
     "iopub.status.idle": "2021-08-10T12:31:32.478653Z",
     "shell.execute_reply": "2021-08-10T12:31:32.477620Z",
     "shell.execute_reply.started": "2021-08-10T12:31:32.471342Z"
    },
    "papermill": {
     "duration": null,
     "end_time": null,
     "exception": null,
     "start_time": null,
     "status": "pending"
    },
    "tags": []
   },
   "outputs": [],
   "source": [
    "len(labels)"
   ]
  },
  {
   "cell_type": "code",
   "execution_count": null,
   "id": "e193f92a",
   "metadata": {
    "execution": {
     "iopub.execute_input": "2021-08-10T12:31:55.904704Z",
     "iopub.status.busy": "2021-08-10T12:31:55.904110Z",
     "iopub.status.idle": "2021-08-10T12:51:55.116167Z",
     "shell.execute_reply": "2021-08-10T12:51:55.115089Z",
     "shell.execute_reply.started": "2021-08-10T12:31:55.904649Z"
    },
    "papermill": {
     "duration": null,
     "end_time": null,
     "exception": null,
     "start_time": null,
     "status": "pending"
    },
    "tags": []
   },
   "outputs": [],
   "source": [
    "# 1- resample all files\n",
    "# 2- Keep only the files that belong to our labels.\n",
    "# x is the features (It is the amplitude in the time domain). (all_wave)\n",
    "# y is the labels. (all_label)\n",
    "\n",
    "all_wave = []\n",
    "all_label = []\n",
    "path = '/kaggle/working/tensorflow-speech-recognition-challenge/train/audio/'\n",
    "for label in labels:\n",
    "    waves = [file for file in os.listdir(path+label) if file.endswith('.wav')] \n",
    "    for wav in waves:\n",
    "        samples,sr = librosa.load(path+label+'/'+wav, sr=16_000)\n",
    "        resamples = librosa.resample(samples, sr, 8_000)\n",
    "        \n",
    "        if len(resamples)==8_000:\n",
    "            all_wave.append(resamples)\n",
    "            all_label.append(label)"
   ]
  },
  {
   "cell_type": "code",
   "execution_count": null,
   "id": "075703da",
   "metadata": {
    "execution": {
     "iopub.status.busy": "2021-08-10T15:39:48.399421Z",
     "iopub.status.idle": "2021-08-10T15:39:48.399860Z"
    },
    "papermill": {
     "duration": null,
     "end_time": null,
     "exception": null,
     "start_time": null,
     "status": "pending"
    },
    "tags": []
   },
   "outputs": [],
   "source": [
    "print(len(all_wave))"
   ]
  },
  {
   "cell_type": "code",
   "execution_count": null,
   "id": "dc99a453",
   "metadata": {
    "execution": {
     "iopub.execute_input": "2021-08-10T12:51:55.127286Z",
     "iopub.status.busy": "2021-08-10T12:51:55.126970Z",
     "iopub.status.idle": "2021-08-10T12:51:55.145032Z",
     "shell.execute_reply": "2021-08-10T12:51:55.143795Z",
     "shell.execute_reply.started": "2021-08-10T12:51:55.127257Z"
    },
    "papermill": {
     "duration": null,
     "end_time": null,
     "exception": null,
     "start_time": null,
     "status": "pending"
    },
    "tags": []
   },
   "outputs": [],
   "source": [
    "for i in range(10):\n",
    "    print(all_wave[i].shape)"
   ]
  },
  {
   "cell_type": "markdown",
   "id": "85f0ea96",
   "metadata": {
    "papermill": {
     "duration": null,
     "end_time": null,
     "exception": null,
     "start_time": null,
     "status": "pending"
    },
    "tags": []
   },
   "source": [
    "# Building The Model"
   ]
  },
  {
   "cell_type": "markdown",
   "id": "b3b3578e",
   "metadata": {
    "papermill": {
     "duration": null,
     "end_time": null,
     "exception": null,
     "start_time": null,
     "status": "pending"
    },
    "tags": []
   },
   "source": [
    "## preparing the output"
   ]
  },
  {
   "cell_type": "code",
   "execution_count": null,
   "id": "be1a24d7",
   "metadata": {
    "execution": {
     "iopub.execute_input": "2021-08-10T12:51:55.146916Z",
     "iopub.status.busy": "2021-08-10T12:51:55.146597Z",
     "iopub.status.idle": "2021-08-10T12:51:55.187043Z",
     "shell.execute_reply": "2021-08-10T12:51:55.185968Z",
     "shell.execute_reply.started": "2021-08-10T12:51:55.146866Z"
    },
    "papermill": {
     "duration": null,
     "end_time": null,
     "exception": null,
     "start_time": null,
     "status": "pending"
    },
    "tags": []
   },
   "outputs": [],
   "source": [
    "from sklearn.preprocessing import LabelEncoder\n",
    "le = LabelEncoder()\n",
    "y=le.fit_transform(all_label)\n",
    "classes= list(le.classes_)"
   ]
  },
  {
   "cell_type": "code",
   "execution_count": null,
   "id": "2f527f14",
   "metadata": {
    "execution": {
     "iopub.execute_input": "2021-08-10T12:51:55.188905Z",
     "iopub.status.busy": "2021-08-10T12:51:55.188595Z",
     "iopub.status.idle": "2021-08-10T12:52:02.341310Z",
     "shell.execute_reply": "2021-08-10T12:52:02.340185Z",
     "shell.execute_reply.started": "2021-08-10T12:51:55.188877Z"
    },
    "papermill": {
     "duration": null,
     "end_time": null,
     "exception": null,
     "start_time": null,
     "status": "pending"
    },
    "tags": []
   },
   "outputs": [],
   "source": [
    "from keras.utils import np_utils\n",
    "y = np_utils.to_categorical(y, num_classes = len(labels))"
   ]
  },
  {
   "cell_type": "code",
   "execution_count": null,
   "id": "0d798183",
   "metadata": {
    "execution": {
     "iopub.execute_input": "2021-08-10T12:52:02.343478Z",
     "iopub.status.busy": "2021-08-10T12:52:02.342855Z",
     "iopub.status.idle": "2021-08-10T12:52:02.349476Z",
     "shell.execute_reply": "2021-08-10T12:52:02.348635Z",
     "shell.execute_reply.started": "2021-08-10T12:52:02.343429Z"
    },
    "papermill": {
     "duration": null,
     "end_time": null,
     "exception": null,
     "start_time": null,
     "status": "pending"
    },
    "tags": []
   },
   "outputs": [],
   "source": [
    "y.shape"
   ]
  },
  {
   "cell_type": "markdown",
   "id": "beaad530",
   "metadata": {
    "papermill": {
     "duration": null,
     "end_time": null,
     "exception": null,
     "start_time": null,
     "status": "pending"
    },
    "tags": []
   },
   "source": [
    "## Reshaping the Input"
   ]
  },
  {
   "cell_type": "code",
   "execution_count": null,
   "id": "af378426",
   "metadata": {
    "execution": {
     "iopub.execute_input": "2021-08-10T12:52:02.350968Z",
     "iopub.status.busy": "2021-08-10T12:52:02.350525Z",
     "iopub.status.idle": "2021-08-10T12:52:03.570519Z",
     "shell.execute_reply": "2021-08-10T12:52:03.569251Z",
     "shell.execute_reply.started": "2021-08-10T12:52:02.350937Z"
    },
    "papermill": {
     "duration": null,
     "end_time": null,
     "exception": null,
     "start_time": null,
     "status": "pending"
    },
    "tags": []
   },
   "outputs": [],
   "source": [
    "all_wave = np.array(all_wave).reshape(-1,8000,1)"
   ]
  },
  {
   "cell_type": "code",
   "execution_count": null,
   "id": "3cb930af",
   "metadata": {
    "execution": {
     "iopub.execute_input": "2021-08-10T12:52:03.574816Z",
     "iopub.status.busy": "2021-08-10T12:52:03.574351Z",
     "iopub.status.idle": "2021-08-10T12:52:03.583207Z",
     "shell.execute_reply": "2021-08-10T12:52:03.582051Z",
     "shell.execute_reply.started": "2021-08-10T12:52:03.574776Z"
    },
    "papermill": {
     "duration": null,
     "end_time": null,
     "exception": null,
     "start_time": null,
     "status": "pending"
    },
    "tags": []
   },
   "outputs": [],
   "source": [
    "all_wave.shape"
   ]
  },
  {
   "cell_type": "markdown",
   "id": "4fea5bd0",
   "metadata": {
    "papermill": {
     "duration": null,
     "end_time": null,
     "exception": null,
     "start_time": null,
     "status": "pending"
    },
    "tags": []
   },
   "source": [
    "## Splitting Into Train and Validation Datasets"
   ]
  },
  {
   "cell_type": "code",
   "execution_count": null,
   "id": "c45fa37f",
   "metadata": {
    "execution": {
     "iopub.execute_input": "2021-08-10T12:52:03.585480Z",
     "iopub.status.busy": "2021-08-10T12:52:03.585020Z",
     "iopub.status.idle": "2021-08-10T12:52:13.123627Z",
     "shell.execute_reply": "2021-08-10T12:52:13.121988Z",
     "shell.execute_reply.started": "2021-08-10T12:52:03.585432Z"
    },
    "papermill": {
     "duration": null,
     "end_time": null,
     "exception": null,
     "start_time": null,
     "status": "pending"
    },
    "tags": []
   },
   "outputs": [],
   "source": [
    "from sklearn.model_selection import train_test_split\n",
    "\n",
    "x_tr, x_val, y_tr , y_val = train_test_split(all_wave,y, stratify = y, test_size = 0.2, shuffle =True)"
   ]
  },
  {
   "cell_type": "markdown",
   "id": "5761d485",
   "metadata": {
    "papermill": {
     "duration": null,
     "end_time": null,
     "exception": null,
     "start_time": null,
     "status": "pending"
    },
    "tags": []
   },
   "source": [
    "## Keras Model"
   ]
  },
  {
   "cell_type": "code",
   "execution_count": null,
   "id": "960a7b2f",
   "metadata": {
    "execution": {
     "iopub.execute_input": "2021-08-10T12:52:13.126148Z",
     "iopub.status.busy": "2021-08-10T12:52:13.125584Z",
     "iopub.status.idle": "2021-08-10T12:52:13.132768Z",
     "shell.execute_reply": "2021-08-10T12:52:13.131243Z",
     "shell.execute_reply.started": "2021-08-10T12:52:13.126078Z"
    },
    "papermill": {
     "duration": null,
     "end_time": null,
     "exception": null,
     "start_time": null,
     "status": "pending"
    },
    "tags": []
   },
   "outputs": [],
   "source": [
    "from keras.layers import Dense, Dropout, Flatten, Conv1D, Input, MaxPooling1D\n",
    "from keras.models import Model\n",
    "from keras.callbacks import EarlyStopping, ModelCheckpoint\n",
    "from keras import backend as K"
   ]
  },
  {
   "cell_type": "code",
   "execution_count": null,
   "id": "a3a4af6c",
   "metadata": {
    "execution": {
     "iopub.execute_input": "2021-08-10T12:52:13.135171Z",
     "iopub.status.busy": "2021-08-10T12:52:13.134706Z",
     "iopub.status.idle": "2021-08-10T12:52:13.395669Z",
     "shell.execute_reply": "2021-08-10T12:52:13.394482Z",
     "shell.execute_reply.started": "2021-08-10T12:52:13.135101Z"
    },
    "papermill": {
     "duration": null,
     "end_time": null,
     "exception": null,
     "start_time": null,
     "status": "pending"
    },
    "tags": []
   },
   "outputs": [],
   "source": [
    "inputs = Input(shape=(8000,1))\n",
    "\n",
    "# First Conv1D layer\n",
    "conv = Conv1D(8, 12, padding=\"valid\", activation='relu', strides=1)(inputs)\n",
    "conv = MaxPooling1D(3)(conv)\n",
    "conv = Dropout(0.3)(conv)\n",
    "\n",
    "# Second Conv1D layer\n",
    "conv = Conv1D(16, 11, padding=\"valid\", activation='relu', strides=1)(conv)\n",
    "conv = MaxPooling1D(3)(conv)\n",
    "conv = Dropout(0.3)(conv)\n",
    "\n",
    "# Third Conv1D layer\n",
    "conv = Conv1D(32, 9, padding=\"valid\", activation='relu', strides=1)(conv)\n",
    "conv = MaxPooling1D(pool_size=3)(conv)\n",
    "conv = Dropout(0.3)(conv)\n",
    "\n",
    "# Fourth Conv1D layer\n",
    "conv = Conv1D(64,7, padding=\"valid\", activation='relu', strides=1)(conv)\n",
    "conv = MaxPooling1D(3)(conv)\n",
    "conv = Dropout(0.3)(conv)\n",
    "\n",
    "conv = Flatten()(conv)\n",
    "\n",
    "#Dense Layer1\n",
    "conv = Dense(128, activation = 'relu')(conv)\n",
    "conv = Dropout(0.3)(conv)\n",
    "\n",
    "#Dense Layer2\n",
    "conv = Dense(128, activation = 'relu')(conv)\n",
    "conv = Dropout(0.3)(conv)\n",
    "\n",
    "# The output Function of the last layer is not ReLU, it's SofMax\n",
    "#len(labels) is 10\n",
    "outputs = Dense(len(labels), activation='softmax')(conv)\n",
    "\n",
    "model = Model(inputs, outputs)\n",
    "model.summary()"
   ]
  },
  {
   "cell_type": "code",
   "execution_count": null,
   "id": "99f21847",
   "metadata": {
    "execution": {
     "iopub.execute_input": "2021-08-10T12:52:13.399825Z",
     "iopub.status.busy": "2021-08-10T12:52:13.399470Z",
     "iopub.status.idle": "2021-08-10T15:39:48.396379Z",
     "shell.execute_reply": "2021-08-10T15:39:48.394070Z",
     "shell.execute_reply.started": "2021-08-10T12:52:13.399793Z"
    },
    "papermill": {
     "duration": null,
     "end_time": null,
     "exception": null,
     "start_time": null,
     "status": "pending"
    },
    "tags": []
   },
   "outputs": [],
   "source": [
    "model.compile(loss='categorical_crossentropy', optimizer = 'adam', metrics=['accuracy'])\n",
    "\n",
    "es = EarlyStopping(monitor = 'val_loss', mode='min', verbose=1, patience = 10)\n",
    "\n",
    "mc = ModelCheckpoint('kaggle/working/best_model.hdf5', monitor='val_acc', verbose=1, save_best_only=True, \n",
    "                     mode='max')\n",
    "history = model.fit(x_tr, y_tr, callbacks=[es,mc],validation_data=(x_val,y_val),\n",
    "          epochs=100, batch_size = 32)"
   ]
  },
  {
   "cell_type": "code",
   "execution_count": null,
   "id": "14a13a05",
   "metadata": {
    "execution": {
     "iopub.execute_input": "2021-08-10T15:42:10.944078Z",
     "iopub.status.busy": "2021-08-10T15:42:10.943617Z",
     "iopub.status.idle": "2021-08-10T15:42:11.015474Z",
     "shell.execute_reply": "2021-08-10T15:42:11.014413Z",
     "shell.execute_reply.started": "2021-08-10T15:42:10.944041Z"
    },
    "papermill": {
     "duration": null,
     "end_time": null,
     "exception": null,
     "start_time": null,
     "status": "pending"
    },
    "tags": []
   },
   "outputs": [],
   "source": [
    "# model.save('kaggle/working/')\n",
    "\n",
    "model.save(\"my_h5_model.h5\")"
   ]
  },
  {
   "cell_type": "markdown",
   "id": "ddd3bdfb",
   "metadata": {
    "papermill": {
     "duration": null,
     "end_time": null,
     "exception": null,
     "start_time": null,
     "status": "pending"
    },
    "tags": []
   },
   "source": []
  },
  {
   "cell_type": "code",
   "execution_count": null,
   "id": "ccf2c568",
   "metadata": {
    "execution": {
     "iopub.execute_input": "2021-08-10T15:42:58.404275Z",
     "iopub.status.busy": "2021-08-10T15:42:58.403887Z",
     "iopub.status.idle": "2021-08-10T15:42:58.622719Z",
     "shell.execute_reply": "2021-08-10T15:42:58.621523Z",
     "shell.execute_reply.started": "2021-08-10T15:42:58.404246Z"
    },
    "papermill": {
     "duration": null,
     "end_time": null,
     "exception": null,
     "start_time": null,
     "status": "pending"
    },
    "tags": []
   },
   "outputs": [],
   "source": [
    "from keras.models import load_model\n",
    "\n",
    "model = load_model('my_h5_model.h5')\n",
    "model.summary()"
   ]
  },
  {
   "cell_type": "code",
   "execution_count": null,
   "id": "1fccc526",
   "metadata": {
    "execution": {
     "iopub.execute_input": "2021-08-10T15:43:02.828780Z",
     "iopub.status.busy": "2021-08-10T15:43:02.828419Z",
     "iopub.status.idle": "2021-08-10T15:43:02.835690Z",
     "shell.execute_reply": "2021-08-10T15:43:02.833900Z",
     "shell.execute_reply.started": "2021-08-10T15:43:02.828751Z"
    },
    "papermill": {
     "duration": null,
     "end_time": null,
     "exception": null,
     "start_time": null,
     "status": "pending"
    },
    "tags": []
   },
   "outputs": [],
   "source": [
    "def predict(audio):\n",
    "    prob = model.predict(audio.reshape(-1,8_000,1)) #prob is a vector of 10 values\n",
    "    index = np.argmax(prob[0])\n",
    "    return classes[index]"
   ]
  },
  {
   "cell_type": "code",
   "execution_count": null,
   "id": "f3d217b7",
   "metadata": {
    "execution": {
     "iopub.execute_input": "2021-08-10T15:43:57.808255Z",
     "iopub.status.busy": "2021-08-10T15:43:57.807848Z",
     "iopub.status.idle": "2021-08-10T15:43:57.870931Z",
     "shell.execute_reply": "2021-08-10T15:43:57.869842Z",
     "shell.execute_reply.started": "2021-08-10T15:43:57.808220Z"
    },
    "papermill": {
     "duration": null,
     "end_time": null,
     "exception": null,
     "start_time": null,
     "status": "pending"
    },
    "tags": []
   },
   "outputs": [],
   "source": [
    "samples = x_tr[24564].flatten()\n",
    "print(predict(samples))\n",
    "ipd.Audio(samples,rate=8_000)"
   ]
  },
  {
   "cell_type": "code",
   "execution_count": null,
   "id": "41c704d8",
   "metadata": {
    "execution": {
     "iopub.execute_input": "2021-08-10T15:43:07.599060Z",
     "iopub.status.busy": "2021-08-10T15:43:07.598703Z",
     "iopub.status.idle": "2021-08-10T15:43:07.637594Z",
     "shell.execute_reply": "2021-08-10T15:43:07.636237Z",
     "shell.execute_reply.started": "2021-08-10T15:43:07.599030Z"
    },
    "papermill": {
     "duration": null,
     "end_time": null,
     "exception": null,
     "start_time": null,
     "status": "pending"
    },
    "tags": []
   },
   "outputs": [],
   "source": [
    "import sounddevice as sd\n",
    "import soundfile as sf\n",
    "\n",
    "samplerate = 16000  \n",
    "duration = 1 # seconds\n",
    "filename = 'yes.wav'\n",
    "print(\"start\")\n",
    "mydata = sd.rec(int(samplerate * duration), samplerate=samplerate,channels=1, blocking=True)\n",
    "print(\"end\")\n",
    "sd.wait()\n",
    "sf.write(filename, mydata, samplerate)"
   ]
  },
  {
   "cell_type": "code",
   "execution_count": null,
   "id": "027b768a",
   "metadata": {
    "execution": {
     "iopub.status.busy": "2021-08-05T16:21:37.484617Z",
     "iopub.status.idle": "2021-08-05T16:21:37.485015Z"
    },
    "papermill": {
     "duration": null,
     "end_time": null,
     "exception": null,
     "start_time": null,
     "status": "pending"
    },
    "tags": []
   },
   "outputs": [],
   "source": [
    "#reading the voice commands\n",
    "samples, sample_rate = librosa.load(filepath + '/' + 'stop.wav', sr = 16000)\n",
    "samples = librosa.resample(samples, sample_rate, 8000)\n",
    "ipd.Audio(samples,rate=8000)     "
   ]
  },
  {
   "cell_type": "code",
   "execution_count": null,
   "id": "64dac1e9",
   "metadata": {
    "execution": {
     "iopub.status.busy": "2021-08-05T16:21:37.48584Z",
     "iopub.status.idle": "2021-08-05T16:21:37.486231Z"
    },
    "papermill": {
     "duration": null,
     "end_time": null,
     "exception": null,
     "start_time": null,
     "status": "pending"
    },
    "tags": []
   },
   "outputs": [],
   "source": [
    "predict(samples)"
   ]
  },
  {
   "cell_type": "code",
   "execution_count": null,
   "id": "8d9e93ff",
   "metadata": {
    "papermill": {
     "duration": null,
     "end_time": null,
     "exception": null,
     "start_time": null,
     "status": "pending"
    },
    "tags": []
   },
   "outputs": [],
   "source": [
    "Why do we need a validation dataset?\n",
    "How many epochs did you need to train your model?\n",
    "What was your stopping criteria to stop training?\n",
    "Which libraries did you use for building your model and converting the audio files?\n",
    "What was the proportion you used to split your data into train and validation datasets?\n",
    "How many parameters do you have in your model?\n",
    "What is your optimizer?\n",
    "\n",
    "Why did you use Conv1D not Conv2D?\n",
    "What is the sample rate that you used to train your model, and why?\n",
    "What is your evaluation metric?\n",
    "What is the spectrogram representation?\n",
    "What is the sampling rate?"
   ]
  },
  {
   "cell_type": "code",
   "execution_count": null,
   "id": "51ddaf18",
   "metadata": {
    "papermill": {
     "duration": null,
     "end_time": null,
     "exception": null,
     "start_time": null,
     "status": "pending"
    },
    "tags": []
   },
   "outputs": [],
   "source": []
  }
 ],
 "metadata": {
  "kernelspec": {
   "display_name": "Python 3",
   "language": "python",
   "name": "python3"
  },
  "language_info": {
   "codemirror_mode": {
    "name": "ipython",
    "version": 3
   },
   "file_extension": ".py",
   "mimetype": "text/x-python",
   "name": "python",
   "nbconvert_exporter": "python",
   "pygments_lexer": "ipython3",
   "version": "3.7.10"
  },
  "papermill": {
   "default_parameters": {},
   "duration": 237.860409,
   "end_time": "2021-08-10T15:49:38.789014",
   "environment_variables": {},
   "exception": true,
   "input_path": "__notebook__.ipynb",
   "output_path": "__notebook__.ipynb",
   "parameters": {},
   "start_time": "2021-08-10T15:45:40.928605",
   "version": "2.3.3"
  }
 },
 "nbformat": 4,
 "nbformat_minor": 5
}
